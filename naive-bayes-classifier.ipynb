{
 "cells": [
  {
   "cell_type": "markdown",
   "metadata": {},
   "source": [
    "## Naive Bayes Classifier from Scratch--Jason Brownlee\n",
    "\n",
    "Michael Muschitiello // AI in Asset Management \n"
   ]
  },
  {
   "cell_type": "code",
   "execution_count": 2,
   "metadata": {},
   "outputs": [],
   "source": [
    "import numpy as np \n",
    "import pandas as pd \n",
    "from random import seed\n",
    "from random import randrange\n",
    "from math import sqrt\n",
    "from math import pi\n",
    "from math import exp "
   ]
  },
  {
   "cell_type": "code",
   "execution_count": 3,
   "metadata": {},
   "outputs": [
    {
     "data": {
      "text/html": [
       "<div>\n",
       "<style scoped>\n",
       "    .dataframe tbody tr th:only-of-type {\n",
       "        vertical-align: middle;\n",
       "    }\n",
       "\n",
       "    .dataframe tbody tr th {\n",
       "        vertical-align: top;\n",
       "    }\n",
       "\n",
       "    .dataframe thead th {\n",
       "        text-align: right;\n",
       "    }\n",
       "</style>\n",
       "<table border=\"1\" class=\"dataframe\">\n",
       "  <thead>\n",
       "    <tr style=\"text-align: right;\">\n",
       "      <th></th>\n",
       "      <th>Pregnancies</th>\n",
       "      <th>Glucose</th>\n",
       "      <th>BloodPressure</th>\n",
       "      <th>SkinThickness</th>\n",
       "      <th>Insulin</th>\n",
       "      <th>BMI</th>\n",
       "      <th>DiabetesPedigreeFunction</th>\n",
       "      <th>Age</th>\n",
       "      <th>Outcome</th>\n",
       "    </tr>\n",
       "  </thead>\n",
       "  <tbody>\n",
       "    <tr>\n",
       "      <th>0</th>\n",
       "      <td>6</td>\n",
       "      <td>148</td>\n",
       "      <td>72</td>\n",
       "      <td>35</td>\n",
       "      <td>0</td>\n",
       "      <td>33.6</td>\n",
       "      <td>0.627</td>\n",
       "      <td>50</td>\n",
       "      <td>1</td>\n",
       "    </tr>\n",
       "    <tr>\n",
       "      <th>1</th>\n",
       "      <td>1</td>\n",
       "      <td>85</td>\n",
       "      <td>66</td>\n",
       "      <td>29</td>\n",
       "      <td>0</td>\n",
       "      <td>26.6</td>\n",
       "      <td>0.351</td>\n",
       "      <td>31</td>\n",
       "      <td>0</td>\n",
       "    </tr>\n",
       "    <tr>\n",
       "      <th>2</th>\n",
       "      <td>8</td>\n",
       "      <td>183</td>\n",
       "      <td>64</td>\n",
       "      <td>0</td>\n",
       "      <td>0</td>\n",
       "      <td>23.3</td>\n",
       "      <td>0.672</td>\n",
       "      <td>32</td>\n",
       "      <td>1</td>\n",
       "    </tr>\n",
       "    <tr>\n",
       "      <th>3</th>\n",
       "      <td>1</td>\n",
       "      <td>89</td>\n",
       "      <td>66</td>\n",
       "      <td>23</td>\n",
       "      <td>94</td>\n",
       "      <td>28.1</td>\n",
       "      <td>0.167</td>\n",
       "      <td>21</td>\n",
       "      <td>0</td>\n",
       "    </tr>\n",
       "    <tr>\n",
       "      <th>4</th>\n",
       "      <td>0</td>\n",
       "      <td>137</td>\n",
       "      <td>40</td>\n",
       "      <td>35</td>\n",
       "      <td>168</td>\n",
       "      <td>43.1</td>\n",
       "      <td>2.288</td>\n",
       "      <td>33</td>\n",
       "      <td>1</td>\n",
       "    </tr>\n",
       "  </tbody>\n",
       "</table>\n",
       "</div>"
      ],
      "text/plain": [
       "   Pregnancies  Glucose  BloodPressure  SkinThickness  Insulin   BMI  \\\n",
       "0            6      148             72             35        0  33.6   \n",
       "1            1       85             66             29        0  26.6   \n",
       "2            8      183             64              0        0  23.3   \n",
       "3            1       89             66             23       94  28.1   \n",
       "4            0      137             40             35      168  43.1   \n",
       "\n",
       "   DiabetesPedigreeFunction  Age  Outcome  \n",
       "0                     0.627   50        1  \n",
       "1                     0.351   31        0  \n",
       "2                     0.672   32        1  \n",
       "3                     0.167   21        0  \n",
       "4                     2.288   33        1  "
      ]
     },
     "execution_count": 3,
     "metadata": {},
     "output_type": "execute_result"
    }
   ],
   "source": [
    "pima = pd.read_csv('pima-indians-diabetes.data (1).csv', header=None)\n",
    "pima.columns = ['Pregnancies', 'Glucose', 'BloodPressure', 'SkinThickness', 'Insulin', 'BMI', 'DiabetesPedigreeFunction', 'Age', 'Outcome']\n",
    "pima.head()"
   ]
  },
  {
   "cell_type": "markdown",
   "metadata": {},
   "source": [
    "## Separating by Class"
   ]
  },
  {
   "cell_type": "code",
   "execution_count": 4,
   "metadata": {},
   "outputs": [
    {
     "name": "stdout",
     "output_type": "stream",
     "text": [
      "Class 1.0:\n",
      "[6.0, 148.0, 72.0, 35.0, 0.0, 33.6, 0.627, 50.0, 1.0]\n",
      "[8.0, 183.0, 64.0, 0.0, 0.0, 23.3, 0.672, 32.0, 1.0]\n",
      "[0.0, 137.0, 40.0, 35.0, 168.0, 43.1, 2.288, 33.0, 1.0]\n",
      "[3.0, 78.0, 50.0, 32.0, 88.0, 31.0, 0.248, 26.0, 1.0]\n",
      "[2.0, 197.0, 70.0, 45.0, 543.0, 30.5, 0.158, 53.0, 1.0]\n",
      "... output truncated ...\n",
      "\n",
      "Class 0.0:\n",
      "[1.0, 85.0, 66.0, 29.0, 0.0, 26.6, 0.351, 31.0, 0.0]\n",
      "[1.0, 89.0, 66.0, 23.0, 94.0, 28.1, 0.167, 21.0, 0.0]\n",
      "[5.0, 116.0, 74.0, 0.0, 0.0, 25.6, 0.201, 30.0, 0.0]\n",
      "[10.0, 115.0, 0.0, 0.0, 0.0, 35.3, 0.134, 29.0, 0.0]\n",
      "[4.0, 110.0, 92.0, 0.0, 0.0, 37.6, 0.191, 30.0, 0.0]\n",
      "... output truncated ...\n",
      "\n"
     ]
    },
    {
     "name": "stderr",
     "output_type": "stream",
     "text": [
      "C:\\Users\\musch\\AppData\\Local\\Temp\\ipykernel_33612\\3608664142.py:4: FutureWarning: Series.__getitem__ treating keys as positions is deprecated. In a future version, integer keys will always be treated as labels (consistent with DataFrame behavior). To access a value by position, use `ser.iloc[pos]`\n",
      "  class_value = row[-1]\n"
     ]
    }
   ],
   "source": [
    "def separate_by_class(df):\n",
    "    separated = {}\n",
    "    for index, row in df.iterrows():\n",
    "        class_value = row[-1]\n",
    "        if class_value not in separated:\n",
    "            separated[class_value] = []\n",
    "        separated[class_value].append(row)\n",
    "    return separated\n",
    "\n",
    "separated = separate_by_class(pima)\n",
    "max_rows_to_print = 5\n",
    "for label in separated:\n",
    "    print(f\"Class {label}:\")\n",
    "    for i, row in enumerate(separated[label]):\n",
    "        if i >= max_rows_to_print:\n",
    "            print(\"... output truncated ...\\n\")\n",
    "            break\n",
    "        print(row.values.tolist())"
   ]
  },
  {
   "cell_type": "markdown",
   "metadata": {},
   "source": [
    "## Summarize the dataset"
   ]
  },
  {
   "cell_type": "code",
   "execution_count": 5,
   "metadata": {},
   "outputs": [
    {
     "data": {
      "text/plain": [
       "[(3.8450520833333335, 3.3695780626988623, 768),\n",
       " (120.89453125, 31.97261819513622, 768),\n",
       " (69.10546875, 19.355807170644777, 768),\n",
       " (20.536458333333332, 15.952217567727677, 768),\n",
       " (79.79947916666667, 115.24400235133837, 768),\n",
       " (31.992578124999977, 7.8841603203754405, 768),\n",
       " (0.4718763020833327, 0.33132859501277484, 768),\n",
       " (33.240885416666664, 11.76023154067868, 768)]"
      ]
     },
     "execution_count": 5,
     "metadata": {},
     "output_type": "execute_result"
    }
   ],
   "source": [
    "# calculating mean\n",
    "def mean(numbers):\n",
    "    return sum(numbers) / float(len(numbers))\n",
    "\n",
    "# calculating standard deviation of a list of numbers\n",
    "def stdev(numbers):\n",
    "    avg = mean(numbers)\n",
    "    variance = sum([(x-avg)**2 for x in numbers]) / float(len(numbers)-1)\n",
    "    return sqrt(variance)\n",
    "\n",
    "# calculating mean, standard deviation, and length for each column in the dataset\n",
    "def summarize_dataset(df):\n",
    "    summaries = [(mean(column), stdev(column), len(column)) for column in zip(*df.values)]\n",
    "    del(summaries[-1])\n",
    "    return summaries\n",
    "\n",
    "summary = summarize_dataset(pima)\n",
    "summary"
   ]
  },
  {
   "cell_type": "code",
   "execution_count": 6,
   "metadata": {},
   "outputs": [
    {
     "name": "stderr",
     "output_type": "stream",
     "text": [
      "C:\\Users\\musch\\AppData\\Local\\Temp\\ipykernel_33612\\3608664142.py:4: FutureWarning: Series.__getitem__ treating keys as positions is deprecated. In a future version, integer keys will always be treated as labels (consistent with DataFrame behavior). To access a value by position, use `ser.iloc[pos]`\n",
      "  class_value = row[-1]\n"
     ]
    },
    {
     "data": {
      "text/plain": [
       "{1.0: [(4.865671641791045, 3.741239044041554, 268),\n",
       "  (141.25746268656715, 31.939622058007195, 268),\n",
       "  (70.82462686567165, 21.49181165060413, 268),\n",
       "  (22.16417910447761, 17.67971140046571, 268),\n",
       "  (100.33582089552239, 138.6891247315351, 268),\n",
       "  (35.14253731343278, 7.262967242346376, 268),\n",
       "  (0.5505, 0.372354483554611, 268),\n",
       "  (37.06716417910448, 10.968253652367915, 268)],\n",
       " 0.0: [(3.298, 3.01718458262189, 500),\n",
       "  (109.98, 26.14119975535359, 500),\n",
       "  (68.184, 18.063075413305828, 500),\n",
       "  (19.664, 14.889947113744254, 500),\n",
       "  (68.792, 98.86528929231767, 500),\n",
       "  (30.30419999999996, 7.689855011650112, 500),\n",
       "  (0.42973400000000017, 0.29908530435741093, 500),\n",
       "  (31.19, 11.667654791631156, 500)]}"
      ]
     },
     "execution_count": 6,
     "metadata": {},
     "output_type": "execute_result"
    }
   ],
   "source": [
    "def summarize_by_class(df):\n",
    "    separated = separate_by_class(df)\n",
    "    summaries = {}\n",
    "    for class_value, rows in separated.items():\n",
    "        summaries[class_value] = summarize_dataset(pd.DataFrame(rows))\n",
    "    return summaries\n",
    "\n",
    "class_summaries = summarize_by_class(pima)\n",
    "class_summaries"
   ]
  },
  {
   "cell_type": "markdown",
   "metadata": {},
   "source": [
    "This calculates the summary statistics(mean, std, length) for each of the 8 input variables and prints them organized by class values(0 or 1).\n",
    "We can see that there are 500 '0' values and 268 '1' values"
   ]
  },
  {
   "cell_type": "markdown",
   "metadata": {},
   "source": [
    "## Gaussian Probability Density Function\n",
    "\n",
    "$$\n",
    "f(x) = \\frac{1}{\\sqrt{2 \\pi}\\,\\sigma} \n",
    "\\exp\\!\\Biggl(-\\frac{(x - \\mu)^{2}}{2\\,\\sigma^{2}}\\Biggr)\n",
    "$$\n"
   ]
  },
  {
   "cell_type": "code",
   "execution_count": 7,
   "metadata": {},
   "outputs": [
    {
     "name": "stdout",
     "output_type": "stream",
     "text": [
      "0.10396109532876423\n",
      "0.016254450460600506\n",
      "0.05844094433345147\n"
     ]
    }
   ],
   "source": [
    "# defining a function to compute the Gaussian probability distribution function for x\n",
    "def calculate_probability(x, mean, stdev):\n",
    "    exponent = np.exp(-((x-mean)**2 / (2*stdev**2)))\n",
    "    return (1/(np.sqrt(2*np.pi)*stdev))*exponent\n",
    "\n",
    "# testing on some known values\n",
    "print(calculate_probability(1.64, 0.0, 1.0))\n",
    "print(calculate_probability(2.53, 0.0, 1.0))\n",
    "print(calculate_probability(1.96, 0.0, 1.0))"
   ]
  },
  {
   "cell_type": "markdown",
   "metadata": {},
   "source": [
    "## Class Probabilities\n",
    "\n",
    "- the probability that a piece of data belongs to a class is: P(class|data) = P(X|class)*P(data)\n",
    "\n",
    "The division is removed from the typical Bayes theorem to simplify the calculation. This means that the result is no longer strictly a probability of the data belonging to a class. The value is still maximized, meaning that the calculation for the class that results in the largets value is taken as the prediction. \n",
    "\n",
    "- the input variables are treated separately, giving the technique it’s name “naive“. For the above example where we have 2 input variables, the calculation of the probability that a row belongs to the first class 0 can be calculated as: P(class=0|X1,X2) = P(X1|class=0) * P(X2|class=0) * P(class=0)"
   ]
  },
  {
   "cell_type": "code",
   "execution_count": 8,
   "metadata": {},
   "outputs": [
    {
     "name": "stderr",
     "output_type": "stream",
     "text": [
      "C:\\Users\\musch\\AppData\\Local\\Temp\\ipykernel_33612\\325797622.py:10: FutureWarning: Series.__getitem__ treating keys as positions is deprecated. In a future version, integer keys will always be treated as labels (consistent with DataFrame behavior). To access a value by position, use `ser.iloc[pos]`\n",
      "  probabilities[class_value] *= calculate_probability(row[i], mean, stdev)\n"
     ]
    },
    {
     "data": {
      "text/plain": [
       "{1.0: 3.158247258942858e-13, 0.0: 1.5601046357664668e-13}"
      ]
     },
     "execution_count": 8,
     "metadata": {},
     "output_type": "execute_result"
    }
   ],
   "source": [
    "# calculate the probabilities of predicting each class for a given row\n",
    "\n",
    "def calculate_class_probabilities(summaries, row):\n",
    "    total_rows = sum([summaries[label][0][2] for label in summaries])\n",
    "    probabilities = {}\n",
    "    for class_value, class_summaries in summaries.items():\n",
    "        probabilities[class_value] = summaries[class_value][0][2]/float(total_rows)\n",
    "        for i in range(len(class_summaries)):\n",
    "            mean, stdev, count = class_summaries[i]\n",
    "            probabilities[class_value] *= calculate_probability(row[i], mean, stdev)\n",
    "    return probabilities\n",
    "\n",
    "probabilities = calculate_class_probabilities(class_summaries, pima.iloc[0])\n",
    "probabilities"
   ]
  },
  {
   "cell_type": "markdown",
   "metadata": {},
   "source": [
    "## Naive Bayes Algorithm"
   ]
  },
  {
   "cell_type": "code",
   "execution_count": 9,
   "metadata": {},
   "outputs": [],
   "source": [
    "# split a dataset into k-folds\n",
    "def cross_validation_split(dataset, n_folds):\n",
    "    dataset_split = []\n",
    "    dataset_copy = list(dataset)\n",
    "    fold_size = int(len(dataset)/n_folds)\n",
    "    for i in range(n_folds):\n",
    "        fold = []\n",
    "        while len(fold) < fold_size and len(dataset_copy) > 0:\n",
    "            index = randrange(len(dataset_copy))\n",
    "            fold.append(dataset_copy.pop(index))\n",
    "        dataset_split.append(fold)\n",
    "    return dataset_split\n",
    "\n",
    "# calculate accuracy percentage\n",
    "def accuracy_metric(actual, predicted):\n",
    "    correct = 0\n",
    "    for i in range(len(actual)):\n",
    "        if actual[i] == predicted[i]:\n",
    "            correct += 1\n",
    "    return correct / float(len(actual)) * 100.0 \n",
    "\n",
    "# evaluate an algorithm using a cross validation split\n",
    "def evaluate_algo(dataset, algorithm, n_folds, *args):\n",
    "    folds = cross_validation_split(dataset, n_folds)\n",
    "    scores = []\n",
    "    for fold in folds:\n",
    "        train_set = list(folds)\n",
    "        train_set.remove(fold)\n",
    "        train_set = sum(train_set, [])\n",
    "        test_set = []\n",
    "        for row in fold:\n",
    "            row_copy = list(row)\n",
    "            test_set.append(row_copy)\n",
    "            row_copy[-1] = None\n",
    "        predicted = algorithm(train_set, test_set, *args)\n",
    "        actual = [row[-1] for row in fold]\n",
    "        accuracy = accuracy_metric(actual, predicted)\n",
    "        scores.append(accuracy)\n",
    "    return scores\n",
    "\n",
    "# predict the class for a given row\n",
    "def predict(summaries, row):\n",
    "    probabilities = calculate_class_probabilities(summaries, row)\n",
    "    best_label, best_prob = None, -1\n",
    "    for class_value, probability in probabilities.items():\n",
    "        if best_label is None or probability > best_prob:\n",
    "            best_prob = probability\n",
    "            best_label = class_value\n",
    "    return best_label\n",
    "\n",
    "# Naive Bayes Algorithm\n",
    "def naive_bayes(train, test):\n",
    "    # Convert the list-of-lists \"train\" back into a DataFrame\n",
    "    # using the same columns as pima\n",
    "    columns = ['Pregnancies','Glucose','BloodPressure','SkinThickness',\n",
    "               'Insulin','BMI','DiabetesPedigreeFunction','Age','Outcome']\n",
    "    train_df = pd.DataFrame(train, columns=columns)\n",
    "    \n",
    "    # Now summarize_by_class(train_df) works correctly\n",
    "    summarize = summarize_by_class(train_df)\n",
    "    predictions = []\n",
    "    for row in test:  # row remains a list. This works with the predict() function\n",
    "        output = predict(summarize, row)\n",
    "        predictions.append(output)\n",
    "    return predictions"
   ]
  },
  {
   "cell_type": "code",
   "execution_count": 10,
   "metadata": {},
   "outputs": [
    {
     "name": "stderr",
     "output_type": "stream",
     "text": [
      "C:\\Users\\musch\\AppData\\Local\\Temp\\ipykernel_33612\\3608664142.py:4: FutureWarning: Series.__getitem__ treating keys as positions is deprecated. In a future version, integer keys will always be treated as labels (consistent with DataFrame behavior). To access a value by position, use `ser.iloc[pos]`\n",
      "  class_value = row[-1]\n"
     ]
    },
    {
     "name": "stdout",
     "output_type": "stream",
     "text": [
      "Scores [76.5625, 75.0, 79.6875, 75.0, 81.25, 78.125, 73.4375, 73.4375, 82.8125, 71.875, 78.125, 70.3125]\n",
      "Mean Accuracy: 76.302%\n"
     ]
    }
   ],
   "source": [
    "# Test the Naive Bayes Algorithm on the pima dataset\n",
    "seed(42)\n",
    "\n",
    "data = pima.values.tolist()\n",
    "scores = evaluate_algo(data, naive_bayes, 12)\n",
    "print(f'Scores %s' % scores)\n",
    "print(f'Mean Accuracy: %.3f%%' % (sum(scores)/float(len(scores))))"
   ]
  }
 ],
 "metadata": {
  "kernelspec": {
   "display_name": "base",
   "language": "python",
   "name": "python3"
  },
  "language_info": {
   "codemirror_mode": {
    "name": "ipython",
    "version": 3
   },
   "file_extension": ".py",
   "mimetype": "text/x-python",
   "name": "python",
   "nbconvert_exporter": "python",
   "pygments_lexer": "ipython3",
   "version": "3.12.3"
  }
 },
 "nbformat": 4,
 "nbformat_minor": 4
}
