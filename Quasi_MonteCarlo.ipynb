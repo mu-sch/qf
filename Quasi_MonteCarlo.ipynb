{
 "cells": [
  {
   "cell_type": "markdown",
   "metadata": {},
   "source": [
    "Michael Muschitiello // Option Pricing and Greeks with Quasi-Monte Carlo \n",
    "\n",
    "### Quasi-Monte Carlo European Call Option Pricing\n",
    "\n",
    "This notebook demonstrates how to price a European call option using a quasi-Monte Carlo approach. It compares the results against the analytical Black–Scholes model and calculates the corresponding option Greeks (price, delta, gamma, vega, rho, and theta) for both methods. The finite-difference technique is used to approximate the Greeks in the quasi-Monte Carlo approach."
   ]
  },
  {
   "cell_type": "code",
   "execution_count": 18,
   "metadata": {},
   "outputs": [],
   "source": [
    "import numpy as np \n",
    "from numpy import random\n",
    "import pandas as pd \n",
    "from scipy import stats\n",
    "from scipy.stats import norm \n",
    "import matplotlib.pyplot as plt \n",
    "import scipy.stats.qmc as qmc\n",
    "import statsmodels.api as sm"
   ]
  },
  {
   "cell_type": "markdown",
   "metadata": {},
   "source": [
    "- Use Quasi-Monte Carlo to esimate the European call option wit the following parameters:\n",
    "    - ($S$, $K$, $T$, $\\sigma$, $r$, $d$) = (100, 100, 1, 0.3, 0, 0)\n",
    "\n",
    "- Calculate the greeks for this call option\n",
    "    - $\\delta$\n",
    "    - $\\gamma$\n",
    "    - $V$\n",
    "    - $\\rho$\n",
    "    - $\\theta$\n",
    "\n",
    "    - Check result against analytical result"
   ]
  },
  {
   "cell_type": "markdown",
   "metadata": {},
   "source": [
    "### Analytical Call Price"
   ]
  },
  {
   "cell_type": "code",
   "execution_count": 19,
   "metadata": {},
   "outputs": [
    {
     "name": "stdout",
     "output_type": "stream",
     "text": [
      "Analytical call price: 11.923538474048499\n"
     ]
    }
   ],
   "source": [
    "def black_scholes_call(S, K, T, sigma, r, d):\n",
    "    d1 = (np.log(S/K) + (r + 0.5*sigma**2)*T) / (sigma*np.sqrt(T))\n",
    "    d2 = d1 - sigma*np.sqrt(T)\n",
    "    call = S*stats.norm.cdf(d1) - K*np.exp(-r*T)*stats.norm.cdf(d2)\n",
    "    return call\n",
    "\n",
    "S, K, T, sigma, r, d = 100, 100, 1, 0.3, 0, 0\n",
    "seed = 6423\n",
    "N = 2**20\n",
    "\n",
    "call_price_analytical = black_scholes_call(S, K, T, sigma, r, d)\n",
    "print(f\"Analytical call price: {call_price_analytical}\")"
   ]
  },
  {
   "cell_type": "markdown",
   "metadata": {},
   "source": [
    "### Quasi Monte Carlo Call Price"
   ]
  },
  {
   "cell_type": "code",
   "execution_count": 20,
   "metadata": {},
   "outputs": [
    {
     "name": "stdout",
     "output_type": "stream",
     "text": [
      "Quasi-Monte Carlo call price: 11.923530531092462\n"
     ]
    }
   ],
   "source": [
    "def quasi_mc_call(S, K, T, sigma, r, d, N, seed):\n",
    "    Y = qmc.Sobol(d=1, seed=seed).random(n=N).flatten()\n",
    "    x_mu = np.log(S) + (r-d-0.5*sigma**2)*T\n",
    "    x_std = sigma*np.sqrt(T)\n",
    "    x_samples_inverse = x_mu + x_std*norm.ppf(Y)\n",
    "    ST_inverse = np.exp(x_samples_inverse)\n",
    "    call_payoff_inverse = np.maximum(ST_inverse - K, 0)\n",
    "    call_inverse_mc = call_payoff_inverse.mean()\n",
    "    return call_inverse_mc\n",
    "\n",
    "quasi_call_price = quasi_mc_call(S, K, T, sigma, r, d, N, seed) \n",
    "print(f\"Quasi-Monte Carlo call price: {quasi_call_price}\")\n"
   ]
  },
  {
   "cell_type": "markdown",
   "metadata": {},
   "source": [
    "### Analytical Greeks"
   ]
  },
  {
   "cell_type": "code",
   "execution_count": 21,
   "metadata": {},
   "outputs": [
    {
     "name": "stdout",
     "output_type": "stream",
     "text": [
      "Analytical Greeks:\n",
      "Price: 11.923538474048499\n",
      "Delta: 0.5596176923702425\n",
      "Gamma: 0.013149311030262964\n",
      "Vega: 39.447933090788894\n",
      "Rho: 44.03823076297575\n",
      "Theta: -5.917189963618334\n"
     ]
    }
   ],
   "source": [
    "def analytical_greeks(S, K, T, sigma, r, d):\n",
    "    d1 = (np.log(S/K) + (r + 0.5*sigma**2)*T) / (sigma*np.sqrt(T))\n",
    "    d2 = d1 - sigma*np.sqrt(T)\n",
    "    price = black_scholes_call(S, K, T, sigma, r, d)\n",
    "    delta = stats.norm.cdf(d1)\n",
    "    gamma = norm.pdf(d1) / (S*sigma*np.sqrt(T))\n",
    "    vega = S*norm.pdf(d1)*np.sqrt(T)\n",
    "    rho = K*T*np.exp(-r*T)*stats.norm.cdf(d2)\n",
    "    theta = (-S*norm.pdf(d1)*sigma / (2*np.sqrt(T)) - r*K*np.exp(-r*T)*stats.norm.cdf(d2))\n",
    "    return price, delta, gamma, vega, rho, theta\n",
    "\n",
    "analytic_greeks = analytical_greeks(S, K, T, sigma, r, d)\n",
    "print(f\"Analytical Greeks:\")\n",
    "print(f\"Price: {analytic_greeks[0]}\")\n",
    "print(f\"Delta: {analytic_greeks[1]}\")\n",
    "print(f\"Gamma: {analytic_greeks[2]}\")\n",
    "print(f\"Vega: {analytic_greeks[3]}\")\n",
    "print(f\"Rho: {analytic_greeks[4]}\")\n",
    "print(f\"Theta: {analytic_greeks[5]}\")"
   ]
  },
  {
   "cell_type": "markdown",
   "metadata": {},
   "source": [
    "### Quasi-MC Greeks"
   ]
  },
  {
   "cell_type": "code",
   "execution_count": 22,
   "metadata": {},
   "outputs": [
    {
     "name": "stdout",
     "output_type": "stream",
     "text": [
      "Quasi-Monte Carlo Greeks:\n",
      "Price: 11.923530531092462\n",
      "Delta: 0.5596833451196659\n",
      "Gamma: 0.013147521613632307\n",
      "Vega: 39.432913567691585\n",
      "Rho: 56.903206394323824\n",
      "Theta: -5.932381784167262\n"
     ]
    }
   ],
   "source": [
    "def quasi_greeks(S, K, T, sigma, r, d, N, seed, ds=0.01):\n",
    "    price = quasi_mc_call(S, K, T, sigma, r, d, N, seed)\n",
    "    delta = (quasi_mc_call(S+ds, K, T, sigma, r, d, N, seed) - price) / ds\n",
    "    gamma = (quasi_mc_call(S+ds, K, T, sigma, r, d, N, seed) - 2*price + quasi_mc_call(S-ds, K, T, sigma, r, d, N, seed)) / ds**2\n",
    "    vega = (quasi_mc_call(S, K, T, sigma+ds, r, d, N, seed) - price) / ds\n",
    "    rho = (quasi_mc_call(S, K, T, sigma, r+ds, d, N, seed) - price) / ds\n",
    "    theta = (quasi_mc_call(S, K, T-ds, sigma, r, d, N, seed) - price) / ds\n",
    "    return price, delta, gamma, vega, rho, theta\n",
    "\n",
    "quasi_greeks = quasi_greeks(S, K, T, sigma, r, d, N, seed)\n",
    "print(f\"Quasi-Monte Carlo Greeks:\")\n",
    "print(f\"Price: {quasi_greeks[0]}\")\n",
    "print(f\"Delta: {quasi_greeks[1]}\")\n",
    "print(f\"Gamma: {quasi_greeks[2]}\")\n",
    "print(f\"Vega: {quasi_greeks[3]}\")\n",
    "print(f\"Rho: {quasi_greeks[4]}\")\n",
    "print(f\"Theta: {quasi_greeks[5]}\")"
   ]
  },
  {
   "cell_type": "code",
   "execution_count": null,
   "metadata": {},
   "outputs": [],
   "source": []
  }
 ],
 "metadata": {
  "kernelspec": {
   "display_name": "base",
   "language": "python",
   "name": "python3"
  },
  "language_info": {
   "codemirror_mode": {
    "name": "ipython",
    "version": 3
   },
   "file_extension": ".py",
   "mimetype": "text/x-python",
   "name": "python",
   "nbconvert_exporter": "python",
   "pygments_lexer": "ipython3",
   "version": "3.12.3"
  }
 },
 "nbformat": 4,
 "nbformat_minor": 2
}
