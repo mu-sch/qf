{
 "cells": [
  {
   "cell_type": "markdown",
   "metadata": {},
   "source": [
    "Michael Muschitiello // Run & Autocorrelation-Analysis, and European Option Pricing with Monte Carlo Methods\n",
    "\n",
    "Part 1: \n",
    "- Discuss the observed market behavior of BTC, noting that the price action is generally trend-following with occasional mean reversion.\n",
    "- Highlight that overall, the time series data does not exhibit long-term mean reversion.\n",
    "- Prepare the dataset and perform initial exploratory analysis.\n",
    "\n",
    "Part 2:\n",
    "- Demonstrate how to price both vanilla and digital European call options using Monte Carlo simulations under three different sampling approaches:\n",
    "1. Sampling the terminal stock price, Sₜ, directly (lognormal distribution).\n",
    "2. Sampling the log of the terminal stock price, Xₜ (normal distribution).\n",
    "3. Sampling in CDF space, Yₜ, which follows a uniform distribution in [0, 1].\n",
    "\n",
    "All methods are compared against the analytical Black–Scholes formula to verify accuracy."
   ]
  },
  {
   "cell_type": "code",
   "execution_count": 1,
   "metadata": {},
   "outputs": [],
   "source": [
    "import numpy as np \n",
    "import pandas as pd\n",
    "import matplotlib.pyplot as plt\n",
    "import scipy.stats as stats\n",
    "from scipy.stats import norm\n",
    "import statsmodels.api as sm"
   ]
  },
  {
   "cell_type": "markdown",
   "metadata": {},
   "source": [
    "# Part 1"
   ]
  },
  {
   "cell_type": "code",
   "execution_count": 2,
   "metadata": {},
   "outputs": [
    {
     "data": {
      "text/html": [
       "<div>\n",
       "<style scoped>\n",
       "    .dataframe tbody tr th:only-of-type {\n",
       "        vertical-align: middle;\n",
       "    }\n",
       "\n",
       "    .dataframe tbody tr th {\n",
       "        vertical-align: top;\n",
       "    }\n",
       "\n",
       "    .dataframe thead th {\n",
       "        text-align: right;\n",
       "    }\n",
       "</style>\n",
       "<table border=\"1\" class=\"dataframe\">\n",
       "  <thead>\n",
       "    <tr style=\"text-align: right;\">\n",
       "      <th></th>\n",
       "      <th>Date</th>\n",
       "      <th>Open</th>\n",
       "      <th>High</th>\n",
       "      <th>Low</th>\n",
       "      <th>Close</th>\n",
       "      <th>Adj Close</th>\n",
       "      <th>Volume</th>\n",
       "    </tr>\n",
       "  </thead>\n",
       "  <tbody>\n",
       "    <tr>\n",
       "      <th>0</th>\n",
       "      <td>2014-09-17</td>\n",
       "      <td>465.864014</td>\n",
       "      <td>468.174011</td>\n",
       "      <td>452.421997</td>\n",
       "      <td>457.334015</td>\n",
       "      <td>457.334015</td>\n",
       "      <td>21056800</td>\n",
       "    </tr>\n",
       "    <tr>\n",
       "      <th>1</th>\n",
       "      <td>2014-09-18</td>\n",
       "      <td>456.859985</td>\n",
       "      <td>456.859985</td>\n",
       "      <td>413.104004</td>\n",
       "      <td>424.440002</td>\n",
       "      <td>424.440002</td>\n",
       "      <td>34483200</td>\n",
       "    </tr>\n",
       "    <tr>\n",
       "      <th>2</th>\n",
       "      <td>2014-09-19</td>\n",
       "      <td>424.102997</td>\n",
       "      <td>427.834991</td>\n",
       "      <td>384.532013</td>\n",
       "      <td>394.795990</td>\n",
       "      <td>394.795990</td>\n",
       "      <td>37919700</td>\n",
       "    </tr>\n",
       "    <tr>\n",
       "      <th>3</th>\n",
       "      <td>2014-09-20</td>\n",
       "      <td>394.673004</td>\n",
       "      <td>423.295990</td>\n",
       "      <td>389.882996</td>\n",
       "      <td>408.903992</td>\n",
       "      <td>408.903992</td>\n",
       "      <td>36863600</td>\n",
       "    </tr>\n",
       "    <tr>\n",
       "      <th>4</th>\n",
       "      <td>2014-09-21</td>\n",
       "      <td>408.084991</td>\n",
       "      <td>412.425995</td>\n",
       "      <td>393.181000</td>\n",
       "      <td>398.821014</td>\n",
       "      <td>398.821014</td>\n",
       "      <td>26580100</td>\n",
       "    </tr>\n",
       "  </tbody>\n",
       "</table>\n",
       "</div>"
      ],
      "text/plain": [
       "         Date        Open        High         Low       Close   Adj Close  \\\n",
       "0  2014-09-17  465.864014  468.174011  452.421997  457.334015  457.334015   \n",
       "1  2014-09-18  456.859985  456.859985  413.104004  424.440002  424.440002   \n",
       "2  2014-09-19  424.102997  427.834991  384.532013  394.795990  394.795990   \n",
       "3  2014-09-20  394.673004  423.295990  389.882996  408.903992  408.903992   \n",
       "4  2014-09-21  408.084991  412.425995  393.181000  398.821014  398.821014   \n",
       "\n",
       "     Volume  \n",
       "0  21056800  \n",
       "1  34483200  \n",
       "2  37919700  \n",
       "3  36863600  \n",
       "4  26580100  "
      ]
     },
     "execution_count": 2,
     "metadata": {},
     "output_type": "execute_result"
    }
   ],
   "source": [
    "btc = pd.read_csv('BTC-USD.csv')\n",
    "btc.head()"
   ]
  },
  {
   "cell_type": "code",
   "execution_count": 3,
   "metadata": {},
   "outputs": [
    {
     "data": {
      "text/html": [
       "<div>\n",
       "<style scoped>\n",
       "    .dataframe tbody tr th:only-of-type {\n",
       "        vertical-align: middle;\n",
       "    }\n",
       "\n",
       "    .dataframe tbody tr th {\n",
       "        vertical-align: top;\n",
       "    }\n",
       "\n",
       "    .dataframe thead th {\n",
       "        text-align: right;\n",
       "    }\n",
       "</style>\n",
       "<table border=\"1\" class=\"dataframe\">\n",
       "  <thead>\n",
       "    <tr style=\"text-align: right;\">\n",
       "      <th></th>\n",
       "      <th>Adj Close</th>\n",
       "    </tr>\n",
       "  </thead>\n",
       "  <tbody>\n",
       "    <tr>\n",
       "      <th>1</th>\n",
       "      <td>-0.071926</td>\n",
       "    </tr>\n",
       "    <tr>\n",
       "      <th>2</th>\n",
       "      <td>-0.069843</td>\n",
       "    </tr>\n",
       "    <tr>\n",
       "      <th>3</th>\n",
       "      <td>0.035735</td>\n",
       "    </tr>\n",
       "    <tr>\n",
       "      <th>4</th>\n",
       "      <td>-0.024659</td>\n",
       "    </tr>\n",
       "    <tr>\n",
       "      <th>5</th>\n",
       "      <td>0.008352</td>\n",
       "    </tr>\n",
       "  </tbody>\n",
       "</table>\n",
       "</div>"
      ],
      "text/plain": [
       "   Adj Close\n",
       "1  -0.071926\n",
       "2  -0.069843\n",
       "3   0.035735\n",
       "4  -0.024659\n",
       "5   0.008352"
      ]
     },
     "execution_count": 3,
     "metadata": {},
     "output_type": "execute_result"
    }
   ],
   "source": [
    "btc_rets = pd.DataFrame(btc['Adj Close'].pct_change().dropna())\n",
    "btc_rets.head()"
   ]
  },
  {
   "cell_type": "code",
   "execution_count": 4,
   "metadata": {},
   "outputs": [
    {
     "data": {
      "image/png": "[encoded data removed]",
      "text/plain": [
       "<Figure size 1000x400 with 1 Axes>"
      ]
     },
     "metadata": {},
     "output_type": "display_data"
    }
   ],
   "source": [
    "plt.figure(figsize=(10,4))\n",
    "plt.hist(btc_rets, bins = 100, edgecolor = 'k', alpha = 0.7)\n",
    "plt.title('BTC Returns')\n",
    "plt.xlabel('Returns')\n",
    "plt.ylabel('Frequency')\n",
    "plt.grid(True)\n",
    "plt.show()"
   ]
  },
  {
   "cell_type": "markdown",
   "metadata": {},
   "source": [
    "The histogram of daily btc returns looks normally distributed."
   ]
  },
  {
   "cell_type": "code",
   "execution_count": null,
   "metadata": {},
   "outputs": [
    {
     "name": "stdout",
     "output_type": "stream",
     "text": [
      "Skewness: [-0.15219491]\n",
      "Kurtosis: [7.29901211]\n"
     ]
    }
   ],
   "source": [
    "# skewness\n",
    "skewness = stats.skew(btc_rets)\n",
    "\n",
    "# excess Kurtosis (Kurtosis - 3)(3=kurtosis of normal distribution)\n",
    "kurtosis = stats.kurtosis(btc_rets)\n",
    "\n",
    "print(f'Skewness: {skewness}')\n",
    "print(f'Kurtosis: {kurtosis}')"
   ]
  },
  {
   "cell_type": "code",
   "execution_count": 6,
   "metadata": {},
   "outputs": [
    {
     "data": {
      "image/png": "[encoded data removed]",
      "text/plain": [
       "<Figure size 1000x400 with 1 Axes>"
      ]
     },
     "metadata": {},
     "output_type": "display_data"
    }
   ],
   "source": [
    "log_btc = np.log(btc['Adj Close'])\n",
    "\n",
    "plt.figure(figsize=(10,4))\n",
    "plt.plot(log_btc)\n",
    "plt.title('BTC Ln(Price)')\n",
    "plt.xlabel('Time')\n",
    "plt.ylabel('BTC Ln(Price)')\n",
    "plt.grid(True)\n",
    "plt.show()"
   ]
  },
  {
   "cell_type": "markdown",
   "metadata": {},
   "source": [
    "The price action is trend-following, with smaller periods of mean reversion. Certainly not mean-reverting through time. "
   ]
  },
  {
   "cell_type": "code",
   "execution_count": 7,
   "metadata": {},
   "outputs": [
    {
     "data": {
      "text/html": [
       "<div>\n",
       "<style scoped>\n",
       "    .dataframe tbody tr th:only-of-type {\n",
       "        vertical-align: middle;\n",
       "    }\n",
       "\n",
       "    .dataframe tbody tr th {\n",
       "        vertical-align: top;\n",
       "    }\n",
       "\n",
       "    .dataframe thead th {\n",
       "        text-align: right;\n",
       "    }\n",
       "</style>\n",
       "<table border=\"1\" class=\"dataframe\">\n",
       "  <thead>\n",
       "    <tr style=\"text-align: right;\">\n",
       "      <th></th>\n",
       "      <th>Adj Close</th>\n",
       "    </tr>\n",
       "  </thead>\n",
       "  <tbody>\n",
       "    <tr>\n",
       "      <th>0</th>\n",
       "      <td>6.125414</td>\n",
       "    </tr>\n",
       "    <tr>\n",
       "      <th>1</th>\n",
       "      <td>6.050771</td>\n",
       "    </tr>\n",
       "    <tr>\n",
       "      <th>2</th>\n",
       "      <td>5.978369</td>\n",
       "    </tr>\n",
       "    <tr>\n",
       "      <th>3</th>\n",
       "      <td>6.013480</td>\n",
       "    </tr>\n",
       "    <tr>\n",
       "      <th>4</th>\n",
       "      <td>5.988513</td>\n",
       "    </tr>\n",
       "  </tbody>\n",
       "</table>\n",
       "</div>"
      ],
      "text/plain": [
       "   Adj Close\n",
       "0   6.125414\n",
       "1   6.050771\n",
       "2   5.978369\n",
       "3   6.013480\n",
       "4   5.988513"
      ]
     },
     "execution_count": 7,
     "metadata": {},
     "output_type": "execute_result"
    }
   ],
   "source": [
    "log_btc = pd.DataFrame(log_btc)\n",
    "log_btc.head()"
   ]
  },
  {
   "cell_type": "markdown",
   "metadata": {},
   "source": [
    "Carrying out the runs test on the return series in mean-reverting period: 1000:2000\n",
    "and Trend following period: 0:1200, 2000:\n",
    "\n",
    "- If the returned z-score from runs_statistic < 1.96, we accept that the periods returns were generated independently"
   ]
  },
  {
   "cell_type": "code",
   "execution_count": 8,
   "metadata": {},
   "outputs": [],
   "source": [
    "def sequence_runs(S):\n",
    "    \"\"\"\n",
    "    Calculate the number of runs in the sequence S.\n",
    "Parameters:\n",
    "    S (list or array-like): The input sequence.\n",
    "Returns:\n",
    "    int: The number of runs in the sequence.\n",
    "\n",
    "    A run is a sequence of consecutive elements that are either all increasing or all decreasing.\n",
    "    \"\"\"\n",
    "    slope=np.sign(np.diff(S))\n",
    "    turns=( slope[:-1]!=slope[1:]) # compare sequence to sequence shifted by 1\n",
    "    runs=np.sum(turns)+1\n",
    "    return runs"
   ]
  },
  {
   "cell_type": "code",
   "execution_count": 9,
   "metadata": {},
   "outputs": [],
   "source": [
    "def runs_statistic(S):\n",
    "    \"\"\"\n",
    "    Calculate the Z-score for the runs test of randomness for a sequence.\n",
    "Parameters:\n",
    "    S (list or array-like): The input sequence.\n",
    "Returns:\n",
    "    float: The Z-score for the runs test of randomness.\n",
    "\n",
    "    The runs test checks if the sequence is random by comparing the actual number of runs \n",
    "    (consecutive elements that are either all increasing or all decreasing) to the expected number of runs.\n",
    "\n",
    "    Interpretation:\n",
    "    - Z close to 0: Sequence is random.\n",
    "    - Z significantly positive or negative: Sequence is not random.\n",
    "\n",
    "    Expected number of runs: (2 * N - 1) / 3\n",
    "    Standard deviation of runs: sqrt((16 * N - 29) / 90)\n",
    "    \"\"\"\n",
    "    N=len(S)\n",
    "    expected_runs=(2*N-1)/3\n",
    "    std_runs=np.sqrt((16*N-29)/90)\n",
    "    runs=sequence_runs(S)\n",
    "    Z=(runs-expected_runs)/std_runs\n",
    "    return Z"
   ]
  },
  {
   "cell_type": "markdown",
   "metadata": {},
   "source": [
    "### Trend Following Period 1: 0-1200"
   ]
  },
  {
   "cell_type": "code",
   "execution_count": 10,
   "metadata": {},
   "outputs": [
    {
     "data": {
      "text/plain": [
       "0.15987319580089418"
      ]
     },
     "execution_count": 10,
     "metadata": {},
     "output_type": "execute_result"
    }
   ],
   "source": [
    "runs_statistic(btc_rets['Adj Close'].iloc[:1200])"
   ]
  },
  {
   "cell_type": "markdown",
   "metadata": {},
   "source": [
    "### Trend Following Period 2: 2000:"
   ]
  },
  {
   "cell_type": "code",
   "execution_count": 11,
   "metadata": {},
   "outputs": [
    {
     "data": {
      "text/plain": [
       "1.3425361091130337"
      ]
     },
     "execution_count": 11,
     "metadata": {},
     "output_type": "execute_result"
    }
   ],
   "source": [
    "runs_statistic(btc_rets['Adj Close'].iloc[2000:]) # 2000-2704"
   ]
  },
  {
   "cell_type": "markdown",
   "metadata": {},
   "source": [
    "### Mean-Reverting Period 2: 1200-2000"
   ]
  },
  {
   "cell_type": "code",
   "execution_count": 12,
   "metadata": {},
   "outputs": [
    {
     "data": {
      "text/plain": [
       "0.9234247009337435"
      ]
     },
     "execution_count": 12,
     "metadata": {},
     "output_type": "execute_result"
    }
   ],
   "source": [
    "runs_statistic(btc_rets['Adj Close'].iloc[1200:2000])"
   ]
  },
  {
   "cell_type": "code",
   "execution_count": 13,
   "metadata": {},
   "outputs": [
    {
     "data": {
      "text/plain": [
       "1.2622935431243953"
      ]
     },
     "execution_count": 13,
     "metadata": {},
     "output_type": "execute_result"
    }
   ],
   "source": [
    "runs_statistic(btc_rets['Adj Close'])"
   ]
  },
  {
   "cell_type": "markdown",
   "metadata": {},
   "source": [
    "- All of the runs test results tell us that the return series is independently drawn. This is not consistent with my intuition that there are certain periods that are trend following and others that are mean reverting"
   ]
  },
  {
   "cell_type": "markdown",
   "metadata": {},
   "source": [
    "### Autocorrelation analysis\n",
    "\n",
    "Autocorrelation is known as serial correlation in time series. It is correlation between two sets of elements, $ \\rho(k) $, that are separated by a fixed leg, $ k $, in the series.\n",
    "\n",
    "$$\n",
    "\\rho(k) = \\frac{1}{(N - k) \\sigma_x^2} \\sum_{t} (x_t - \\bar{x}) (x_{t+k} - \\bar{x})\n",
    "$$\n",
    "\n",
    "where $\\bar{x}$ is the average of $x_t$, and $\\sigma_x^2$ is the variance of $x_t$"
   ]
  },
  {
   "cell_type": "markdown",
   "metadata": {},
   "source": [
    "## Testing the Significance of Correlation Coefficient\n",
    "\n",
    "- **Null hypothesis** $$ H_0: \\rho = 0 $$\n",
    "- **Alternative hypothesis** $$ H_a: \\rho \\neq 0 $$\n",
    "\n",
    "Correlation coefficient follows t-distribution of degree of freedom $ n - 2 $, where the statistic\n",
    "\n",
    "$$\n",
    "t = \\frac{\\rho \\sqrt{n - 2}}{\\sqrt{1 - \\rho^2}}\n",
    "$$\n",
    "\n",
    "For large $ n $, t-distribution approaches normal distribution.\n",
    "\n"
   ]
  },
  {
   "cell_type": "code",
   "execution_count": 14,
   "metadata": {},
   "outputs": [
    {
     "data": {
      "image/png": "[encoded data removed]",
      "text/plain": [
       "<Figure size 1500x1000 with 1 Axes>"
      ]
     },
     "metadata": {},
     "output_type": "display_data"
    }
   ],
   "source": [
    "fig, ax = plt.subplots(figsize=(15,10))\n",
    "sm.graphics.tsa.plot_acf(btc_rets, lags=20, ax=ax) # assuming 95% confidence interval for each lag time\n",
    "plt.title('Autocorrelation of BTC Returns')\n",
    "plt.xlabel('Lag')\n",
    "plt.ylabel('Autocorrelation')\n",
    "ax.set_ylim([-0.2, 0.2])\n",
    "plt.grid(True)\n",
    "plt.show()"
   ]
  },
  {
   "cell_type": "markdown",
   "metadata": {},
   "source": [
    "- Other than the lag k=0, which exhibits autocorrelation of 1(which is to be expected), nearly all other lag times fall within the confidence bands of +/- 2/sqrt(n). This plot suggests that the autocorrelations of the 1-20 lag times are not statistically significant telling us that the returns of BTC do not show linear dependence on the past values(over the specified lag times). Essentially, the returns behave like a white noise which implies that simple linear model will not have good predictive power based on past returns alone. The ones that **do** fall outside the confidence interval, are not significant enough to conclude their is statistically significant autocorrelation for these lag times. **Ultimately we fail to reject the null hypothesis of zero-autocorrelation.**"
   ]
  },
  {
   "cell_type": "markdown",
   "metadata": {},
   "source": [
    "**Part 2:**  \n",
    "\n",
    "Use Monte‐Carlo method to price the following European Options by sampling in:\n",
    "\n",
    "- **(a)** terminal stock price, $S_T$, which follows a lognormal distribution\n",
    "\n",
    "- **(b)** log of terminal stock price, \n",
    "  $\n",
    "    X_T = \\ln\\!\\bigl(\\tfrac{S_T}{S_0}\\bigr),\n",
    "  $\n",
    "  which follows a normal distribution\n",
    "\n",
    "- **(c)** CDF space: \n",
    "  $\n",
    "    Y_T = F(X_T) \n",
    "    \\;=\\; \\int_{-\\infty}^{X_T} p(x)\\,dx,\n",
    "  $\n",
    "  which follows a uniform distribution in $[0,1]$\n",
    "\n",
    "\n",
    "### 1. Call option\n",
    "$(S, K, T, \\sigma, r, d) = (100,\\,100,\\,1,\\,0.3,\\,0,\\,0)$  \n",
    "\n",
    "Check your result against the analytical result.\n",
    "\n",
    "---\n",
    "\n",
    "### 2. Digital call option\n",
    "$(S, K, T, \\sigma, r, d) = (100,\\,100,\\,1,\\,0.3,\\,0,\\,0)$  \n",
    "\n",
    "A digital call option pays $1 at expiry if the underlying price is greater than the strike price.\n"
   ]
  },
  {
   "cell_type": "code",
   "execution_count": 15,
   "metadata": {},
   "outputs": [],
   "source": [
    "# define parameters for both vanilla and digital call options\n",
    "S0 = 100\n",
    "K = 100\n",
    "T = 1\n",
    "sigma = 0.3\n",
    "r = 0.0 \n",
    "d = 0.0\n",
    "nsims = 100000"
   ]
  },
  {
   "cell_type": "code",
   "execution_count": 16,
   "metadata": {},
   "outputs": [],
   "source": [
    "# function for analytical B-S formula for vanilla and digital\n",
    "def bs_call_price(S0, K, T, r, sigma):\n",
    "    d1 = (np.log(S0 / K) + (r + 0.5 * sigma**2)*T) / (sigma * np.sqrt(T))\n",
    "    d2 = d1 - sigma * np.sqrt(T)\n",
    "\n",
    "    call_price = S0 * stats.norm.cdf(d1) - K * np.exp(-r * T) * stats.norm.cdf(d2)\n",
    "    return call_price\n",
    "\n",
    "def bs_digital_call_price(S0, K, T, r, sigma):\n",
    "    d1 = (np.log(S0 / K) + (r + 0.5 * sigma**2)*T) / (sigma * np.sqrt(T))\n",
    "    d2 = d1 - sigma * np.sqrt(T)\n",
    "\n",
    "    digital_call_price = np.exp(-r * T) * stats.norm.cdf(d2)\n",
    "    return digital_call_price\n",
    "\n",
    "call_price_bs = bs_call_price(S0, K, T, r, sigma)\n",
    "digital_call_price_bs = bs_digital_call_price(S0, K, T, r, sigma)"
   ]
  },
  {
   "cell_type": "markdown",
   "metadata": {},
   "source": [
    "a) sampling the terminal stock price S_T directly (lognormal distribution)"
   ]
  },
  {
   "cell_type": "code",
   "execution_count": 17,
   "metadata": {},
   "outputs": [
    {
     "name": "stdout",
     "output_type": "stream",
     "text": [
      "Vanilla Call Price(MC)(a): 11.897407765294423\n",
      "Digital Call Price(MC)(a): 0.4415\n",
      "\n",
      "Vanilla Call Price(Analytical): 11.923538474048499\n",
      "Digital Call Price(Analytical): 0.4403823076297575\n"
     ]
    }
   ],
   "source": [
    "# generate the random draws\n",
    "\n",
    "# Z ~ N(0,1)\n",
    "Z = np.random.normal(0,1,nsims)\n",
    "\n",
    "# compute terminal stock price S_T\n",
    "S_T = S0 * np.exp((r-d-0.5*sigma**2)*T + sigma*np.sqrt(T)*Z)\n",
    "\n",
    "# compute payoffs for both plain vanilla and digital call\n",
    "vanilla_payoff = np.maximum(S_T - K,0)\n",
    "digital_payoff = (S_T > K).astype(float)\n",
    "\n",
    "discount_factor = np.exp(-r*T)\n",
    "\n",
    "vanilla_price_a = discount_factor * vanilla_payoff.mean()\n",
    "digital_price_a = discount_factor * digital_payoff.mean()\n",
    "\n",
    "print(f'Vanilla Call Price(MC)(a): {vanilla_price_a}')\n",
    "print(f'Digital Call Price(MC)(a): {digital_price_a}')\n",
    "print()\n",
    "print(f'Vanilla Call Price(Analytical): {call_price_bs}')\n",
    "print(f'Digital Call Price(Analytical): {digital_call_price_bs}')"
   ]
  },
  {
   "cell_type": "markdown",
   "metadata": {},
   "source": [
    "- The Monte Carlo method to price the Call options by sampling in the terminal stock price, S_T which follows a lognormal distribtuion is very close to the analytical pricing using B-S formula"
   ]
  },
  {
   "cell_type": "markdown",
   "metadata": {},
   "source": [
    "**(b)** sampling  in log of terminal stock price, \n",
    "  $\n",
    "    X_T = \\ln\\!\\bigl(\\tfrac{S_T}{S_0}\\bigr),\n",
    "  $\n",
    "  which follows a normal distribution"
   ]
  },
  {
   "cell_type": "code",
   "execution_count": 18,
   "metadata": {},
   "outputs": [
    {
     "name": "stdout",
     "output_type": "stream",
     "text": [
      "Vanilla Call Price(MC)(b): 11.90620592431116\n",
      "Digital Call Price(MC)(b): 0.43929\n",
      "\n",
      "Vanilla Call Price(Analytical): 11.923538474048499\n",
      "Digital Call Price(Analytical): 0.4403823076297575\n"
     ]
    }
   ],
   "source": [
    "Z = np.random.normal(0,1,nsims)\n",
    "\n",
    "X_T = (r - 0.5 * sigma**2) * T + sigma * np.sqrt(T) * Z\n",
    "S_T = S0 * np.exp(X_T)\n",
    "\n",
    "vanilla_payoff_b = np.maximum(S_T - K, 0)\n",
    "digital_payoff_b = (S_T > K).astype(float)\n",
    "\n",
    "discount_factor = np.exp(-r * T)\n",
    "\n",
    "call_price_b = discount_factor * vanilla_payoff_b.mean()\n",
    "digital_price_b = discount_factor * digital_payoff_b.mean()\n",
    "\n",
    "print(f'Vanilla Call Price(MC)(b): {call_price_b}')\n",
    "print(f'Digital Call Price(MC)(b): {digital_price_b}')\n",
    "print()\n",
    "print(f'Vanilla Call Price(Analytical): {call_price_bs}')\n",
    "print(f'Digital Call Price(Analytical): {digital_call_price_bs}')"
   ]
  },
  {
   "cell_type": "markdown",
   "metadata": {},
   "source": [
    "- **(c)** CDF space: \n",
    "  $\n",
    "    Y_T = F(X_T) \n",
    "    \\;=\\; \\int_{-\\infty}^{X_T} p(x)\\,dx,\n",
    "  $\n",
    "  which follows a uniform distribution in $[0,1]$"
   ]
  },
  {
   "cell_type": "code",
   "execution_count": 19,
   "metadata": {},
   "outputs": [],
   "source": [
    "# Y~U(0,1)\n",
    "# then invert normal CDF for X_T = ln(S_T/S0)\n",
    "Y = np.random.uniform(0,1,nsims)\n",
    "mu = (r - 0.5 * sigma**2) * T\n",
    "sigmaT = sigma * np.sqrt(T)"
   ]
  },
  {
   "cell_type": "code",
   "execution_count": 20,
   "metadata": {},
   "outputs": [],
   "source": [
    "# inverting the cdf of the std normal \n",
    "# norm.ppf(Y) = inverse of phi(Y)\n",
    "# X_T = mu + sigmaT * phi^-1(Y)\n",
    "X_T = mu + sigmaT * norm.ppf(Y)"
   ]
  },
  {
   "cell_type": "code",
   "execution_count": 21,
   "metadata": {},
   "outputs": [
    {
     "name": "stdout",
     "output_type": "stream",
     "text": [
      "Vanilla Call Price(MC)(c): 11.86271842431468\n",
      "Digital Call Price(MC)(c): 0.4397\n",
      "\n",
      "Vanilla Call Price(Analytical): 11.923538474048499\n",
      "Digital Call Price(Analytical): 0.4403823076297575\n"
     ]
    }
   ],
   "source": [
    "S_T = S0 * np.exp(X_T)\n",
    "\n",
    "vanilla_payoff_c = np.maximum(S_T - K, 0)\n",
    "digital_payoff_c = (S_T > K).astype(float)\n",
    "\n",
    "call_price_c = discount_factor * vanilla_payoff_c.mean()\n",
    "digital_price_c = discount_factor * digital_payoff_c.mean()\n",
    "\n",
    "print(f'Vanilla Call Price(MC)(c): {call_price_c}')\n",
    "print(f'Digital Call Price(MC)(c): {digital_price_c}')\n",
    "print()\n",
    "print(f'Vanilla Call Price(Analytical): {call_price_bs}')\n",
    "print(f'Digital Call Price(Analytical): {digital_call_price_bs}')"
   ]
  },
  {
   "cell_type": "markdown",
   "metadata": {},
   "source": [
    "All 3 sampling methods converge to similar Monte Carlo prices. They all end up producing the same lognormal distribution for S_T. When the number of simulations is high enough, the LLN causes the sample average of the disocunted payoff to be ~equal under the RN measure."
   ]
  },
  {
   "cell_type": "code",
   "execution_count": null,
   "metadata": {},
   "outputs": [],
   "source": []
  }
 ],
 "metadata": {
  "kernelspec": {
   "display_name": "base",
   "language": "python",
   "name": "python3"
  },
  "language_info": {
   "codemirror_mode": {
    "name": "ipython",
    "version": 3
   },
   "file_extension": ".py",
   "mimetype": "text/x-python",
   "name": "python",
   "nbconvert_exporter": "python",
   "pygments_lexer": "ipython3",
   "version": "3.12.3"
  }
 },
 "nbformat": 4,
 "nbformat_minor": 2
}
